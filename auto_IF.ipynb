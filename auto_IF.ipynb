{
 "cells": [
  {
   "cell_type": "code",
   "execution_count": 1,
   "id": "d8dfc21d",
   "metadata": {},
   "outputs": [],
   "source": [
    "from auto_IF import*"
   ]
  },
  {
   "cell_type": "code",
   "execution_count": 5,
   "id": "54a0410f",
   "metadata": {},
   "outputs": [
    {
     "name": "stdout",
     "output_type": "stream",
     "text": [
      "Plotting graph...\n",
      "Deriving identification formula using causal effect package...\n",
      "\n",
      " String for identification formula:   \\sum_{x}P(x)P(y|t, x)\n",
      "\n",
      " List of terms for parsing:   ['\\\\sum_{x}', 'P(x)', 'P(y|t, x)']\n",
      "\n",
      " Plotting latex...\n"
     ]
    },
    {
     "data": {
      "text/latex": [
       "$\\displaystyle \\sum_{x}P(x)P(y|t, x)$"
      ],
      "text/plain": [
       "<IPython.core.display.Math object>"
      ]
     },
     "metadata": {},
     "output_type": "display_data"
    },
    {
     "name": "stdout",
     "output_type": "stream",
     "text": [
      "\n",
      " Plotting latex...\n"
     ]
    },
    {
     "data": {
      "text/latex": [
       "$\\displaystyle \\sum_{x}P(x)P(y|t, x)[(\\frac{\\delta_{\\tilde{x}}(x)}{P(x)}+\\frac{\\delta_{\\tilde{y},\\tilde{t},\\tilde{ x}}(y,t, x)}{P(y,t, x)}-\\frac{\\delta_{\\tilde{t},\\tilde{ x}}(t, x)}{P(t, x)})-1]$"
      ],
      "text/plain": [
       "<IPython.core.display.Math object>"
      ]
     },
     "metadata": {},
     "output_type": "display_data"
    }
   ],
   "source": [
    "G = createGraph(['T->Y', 'X->Y', 'X->T'])\n",
    "\n",
    "print('Plotting graph...')\n",
    "# causaleffect.plotGraph(G)\n",
    "\n",
    "print('Deriving identification formula using causal effect package...')\n",
    "P = causaleffect.ID({'Y'}, {'T'}, G)\n",
    "string = P.printLatex()\n",
    "print('\\n String for identification formula:  ', string)\n",
    "\n",
    "split_by = 'P'\n",
    "s = [split_by + e for e in string.split(split_by) if e]\n",
    "\n",
    "s_updated = []\n",
    "\n",
    "for term in s:\n",
    "    if 'sum' in term and (term[0].split('\\\\')[0] == 'P'):\n",
    "        mod = s[0].split('\\\\')\n",
    "        s_updated.append('\\\\' + mod[1])\n",
    "    else:\n",
    "        s_updated.append(term)\n",
    "\n",
    "\n",
    "print('\\n List of terms for parsing:  ', s_updated)\n",
    "\n",
    "print('\\n Plotting latex...')\n",
    "display(Math(string))\n",
    "\n",
    "est = string\n",
    "IF = IF_derivation(est)\n",
    "print('\\n Plotting latex...')\n",
    "display(Math(IF))"
   ]
  },
  {
   "cell_type": "code",
   "execution_count": null,
   "id": "d55a2fee",
   "metadata": {},
   "outputs": [],
   "source": []
  },
  {
   "cell_type": "code",
   "execution_count": null,
   "id": "2ed448f4",
   "metadata": {},
   "outputs": [],
   "source": []
  }
 ],
 "metadata": {
  "kernelspec": {
   "display_name": "Python 3",
   "language": "python",
   "name": "python3"
  },
  "language_info": {
   "codemirror_mode": {
    "name": "ipython",
    "version": 3
   },
   "file_extension": ".py",
   "mimetype": "text/x-python",
   "name": "python",
   "nbconvert_exporter": "python",
   "pygments_lexer": "ipython3",
   "version": "3.7.12"
  }
 },
 "nbformat": 4,
 "nbformat_minor": 5
}
